{
 "cells": [
  {
   "cell_type": "code",
   "execution_count": 3,
   "metadata": {},
   "outputs": [],
   "source": [
    "import numpy as np\n",
    "import matplotlib.pyplot as plt\n",
    "import time\n",
    "import seaborn as sns\n",
    "import pickle as pkl\n",
    "import urllib.request # to fetch data online\n",
    "import re # regular expressions to parse html\n",
    "from sklearn.feature_extraction.text import CountVectorizer\n",
    "from sklearn.decomposition import LatentDirichletAllocation"
   ]
  },
  {
   "cell_type": "markdown",
   "metadata": {},
   "source": [
    "## Download/read data"
   ]
  },
  {
   "cell_type": "code",
   "execution_count": 26,
   "metadata": {},
   "outputs": [
    {
     "name": "stdout",
     "output_type": "stream",
     "text": [
      "7234 abstracts read in 6.288s.\n"
     ]
    }
   ],
   "source": [
    "# NIPS data in in ../data/papers.csv\n",
    "bool_abstract_detected = False\n",
    "bool_abstract_finished = False\n",
    "nips_papers = []\n",
    "\n",
    "tic = time.time()\n",
    "with open(\"../data/papers.csv\") as fin:\n",
    "    lines = fin.readlines()\n",
    "    for index, line in enumerate(lines):\n",
    "        \n",
    "        #print(line.split(','))\n",
    "        \n",
    "        if \".pdf,\" in line or \"Abstract Missing\" in line:\n",
    "            # New entry detected, read paper id and year of publication\n",
    "            line_split = line.split(',')\n",
    "            paper_id = line_split[0]\n",
    "            year = line_split[1]\n",
    "        \n",
    "        if bool_abstract_detected and not bool_abstract_finished:\n",
    "            # Read new line of abstract and check whether it is the last one\n",
    "            abstract += \" \"+line\n",
    "            bool_abstract_finished = lines[index+1][-5:].isupper() or \"Introduction\" in lines[index+1]\n",
    "            \n",
    "        if bool_abstract_finished:\n",
    "            # Save abstract and prepare for the next one\n",
    "            paper = {}\n",
    "            paper[\"id\"] = paper_id\n",
    "            paper[\"year\"] = year\n",
    "            paper[\"abstract\"] = abstract\n",
    "            nips_papers.append(paper)\n",
    "            bool_abstract_detected = False\n",
    "            bool_abstract_finished = False\n",
    "        \n",
    "        if line.startswith(\"ABSTRACT\") or line.startswith(\"Abstract\"):\n",
    "            # New abstract starting next line\n",
    "            abstract = \"\"\n",
    "            bool_abstract_detected = True\n",
    "\n",
    "toc = time.time()\n",
    "number_of_papers = len(nips_papers)\n",
    "print(str(number_of_papers)+\" abstracts read in %0.3fs.\" % (toc-tic))"
   ]
  },
  {
   "cell_type": "markdown",
   "metadata": {},
   "source": [
    "JMLR data has to be manually fetched"
   ]
  },
  {
   "cell_type": "code",
   "execution_count": 2,
   "metadata": {},
   "outputs": [
    {
     "name": "stdout",
     "output_type": "stream",
     "text": [
      "Reading volume 1\n",
      "11 papers in volume 1\n",
      "Reading volume 2\n",
      "32 papers in volume 2\n",
      "Reading volume 3\n",
      "56 papers in volume 3\n",
      "Reading volume 4\n",
      "54 papers in volume 4\n",
      "Reading volume 5\n",
      "31 papers in volume 5\n",
      "Reading volume 6\n",
      "73 papers in volume 6\n",
      "Reading volume 7\n",
      "100 papers in volume 7\n",
      "Reading volume 8\n",
      "91 papers in volume 8\n",
      "Reading volume 9\n",
      "95 papers in volume 9\n",
      "Reading volume 10\n",
      "100 papers in volume 10\n",
      "Reading volume 11\n",
      "118 papers in volume 11\n",
      "Reading volume 12\n",
      "105 papers in volume 12\n",
      "Reading volume 13\n",
      "119 papers in volume 13\n",
      "Reading volume 14\n",
      "Dead link: http://www.jmlr.org/papers/v14/debrabanter13a.html\n",
      "121 papers in volume 14\n",
      "Reading volume 15\n",
      "120 papers in volume 15\n",
      "Reading volume 16\n",
      "Dead link: http://www.jmlr.org/papers/v16/feldman15a.html\n",
      "118 papers in volume 16\n",
      "Reading volume 17\n",
      "238 papers in volume 17\n",
      "Reading volume 18\n",
      "234 papers in volume 18\n",
      "Reading volume 19\n",
      "84 papers in volume 19\n",
      "1898 papers read in 465.666s.\n"
     ]
    }
   ],
   "source": [
    "volume_numbers = range(1,20)\n",
    "jmlr_papers = []\n",
    "tic = time.time()\n",
    "for volume_number in volume_numbers:\n",
    "    print(\"Reading volume\", str(volume_number))\n",
    "\n",
    "    # Read page listing papers in given volume\n",
    "    volume_url = \"http://www.jmlr.org/papers/v\"+str(volume_number)\n",
    "    html = urllib.request.urlopen(volume_url)\n",
    "    page = html.read().decode('utf-8')\n",
    "    \n",
    "    # Find urls of abstracts\n",
    "    candidate_patterns = [r\"<a href=(.*)>\\[abs\\]</a>\", r\"<a href=(.*)>abs</a>\"]\n",
    "    #candidate_patterns = [r\"<a href=(.*)>\\[abs\\]</a>\", r\"<a href=\\\"(.*)\\\">abs</a>\", r\"<a href=(.*)>abs</a>\", r\"<a href=\\'(.*)\\'>abs</a>\"]\n",
    "    cpt_patterns = 0\n",
    "    paper_pattern = candidate_patterns[cpt_patterns]\n",
    "    while re.search(paper_pattern, page) == None:     \n",
    "        cpt_patterns += 1\n",
    "        paper_pattern = candidate_patterns[cpt_patterns]\n",
    "    papers_matches = re.finditer(paper_pattern, page)\n",
    "\n",
    "    # Read abstract\n",
    "    cpt = 0\n",
    "    for paper_match in papers_matches:\n",
    "        cpt += 1\n",
    "        paper_id = paper_match.group(1)\n",
    "        paper_id = paper_id.split('/')[-1] # some issues have full urls, so just keep the trailing id\n",
    "        paper_id = paper_id.replace('\\\"',\"\")\n",
    "        paper_id = paper_id.replace('\\'',\"\")                            \n",
    "        abstract_url = volume_url+'/'+paper_id            \n",
    "        #if paper_id.startswith(\"http\"):\n",
    "            # some issues have full urls, some local urls\"\n",
    "        #    abstract_url = paper_id\n",
    "        #elif paper_id.startswith(\"/papers\"):\n",
    "        #    temp = paper_id.split(\"/\")\n",
    "        #    abstract_url = paper_id\n",
    "        #else:\n",
    "        #    abstract_url = volume_url+'/'+paper_id\n",
    "        #print(abstract_url)\n",
    "        try:\n",
    "            abstract_html = urllib.request.urlopen(abstract_url)\n",
    "            abstract_page = abstract_html.read().decode('utf-8')\n",
    "            #print(abstract_page)\n",
    "            abstract_pattern = re.compile(r\"<h3>Abstract</h3>(.*)<font\", re.DOTALL) # DOTALL allows . to match with newlines\n",
    "            abstract_match = re.search(abstract_pattern, abstract_page) \n",
    "            #print(abstract_match)\n",
    "            #abstracts_matches = re.finditer(abstract_pattern, abstract_page)\n",
    "            #for abstract_match in abstracts_matches:\n",
    "            paper = {}\n",
    "            paper[\"volume\"] = volume_number\n",
    "            paper[\"abstract\"] = abstract_match.group(1).replace(\"\\n\",\"\") # also replace <p>\n",
    "            jmlr_papers.append(paper)  \n",
    "        except:\n",
    "            print(\"Dead link:\", abstract_url)\n",
    "            pass\n",
    "    print(cpt, \"papers in volume\", volume_number)\n",
    "\n",
    "toc = time.time()\n",
    "number_of_jmlr_papers = len(jmlr_papers)\n",
    "print(number_of_jmlr_papers, \"papers read in %0.3fs.\"%(toc - tic))"
   ]
  },
  {
   "cell_type": "code",
   "execution_count": 4,
   "metadata": {},
   "outputs": [],
   "source": [
    "pkl.dump(jmlr_papers, open(\"jmlr.pkl\",\"wb\"))"
   ]
  },
  {
   "cell_type": "markdown",
   "metadata": {},
   "source": [
    "## Read data"
   ]
  },
  {
   "cell_type": "code",
   "execution_count": null,
   "metadata": {},
   "outputs": [],
   "source": []
  },
  {
   "cell_type": "code",
   "execution_count": 8,
   "metadata": {},
   "outputs": [
    {
     "name": "stdout",
     "output_type": "stream",
     "text": [
      "There are 98 neural network papers out of 1898\n",
      "There are 218 Bayesian papers out of 1898\n"
     ]
    }
   ],
   "source": [
    "bayesian_jmlr_papers = []\n",
    "neural_network_jmlr_papers = []\n",
    "for paper in jmlr_papers:\n",
    "    bayesian_keywords = [\"Bayesian\", \"variational Bayes\"]\n",
    "    if any(kwd in paper[\"abstract\"] for kwd in bayesian_keywords):\n",
    "        bayesian_jmlr_papers.append(paper)\n",
    "    neural_network_keywords = [\"neural net\", \"Neural net\", \"deep\", \"Deep\"]\n",
    "    if any(kwd in paper[\"abstract\"] for kwd in neural_network_keywords):\n",
    "        neural_network_jmlr_papers.append(paper)\n",
    "number_of_jmlr_papers = len(jmlr_papers)\n",
    "number_of_Bayesian_jmlr_papers = len(bayesian_jmlr_papers)   \n",
    "print(\"There are\", str(len(neural_network_jmlr_papers))+\" neural network papers out of\", number_of_jmlr_papers)\n",
    "print(\"There are\", str(number_of_Bayesian_jmlr_papers)+\" Bayesian papers out of\", number_of_jmlr_papers)"
   ]
  },
  {
   "cell_type": "code",
   "execution_count": 10,
   "metadata": {},
   "outputs": [
    {
     "name": "stdout",
     "output_type": "stream",
     "text": [
      "Out of which the number of papers about Bayesian networks is\n",
      "63\n"
     ]
    }
   ],
   "source": [
    "# Bayesian networks may not be about Bayesian statistics\n",
    "print(\"Out of which the number of papers about Bayesian networks is\")\n",
    "print(np.sum([\"Bayesian network\" in paper[\"abstract\"] for paper in bayesian_jmlr_papers]))"
   ]
  },
  {
   "cell_type": "code",
   "execution_count": 14,
   "metadata": {},
   "outputs": [
    {
     "data": {
      "image/png": "[encoded data removed]",
      "text/plain": [
       "<matplotlib.figure.Figure at 0x110feadd8>"
      ]
     },
     "metadata": {},
     "output_type": "display_data"
    }
   ],
   "source": [
    "# plot proportion of Bayesian papers\n",
    "volumes = [int(paper[\"volume\"]) for paper in jmlr_papers] + [20]\n",
    "bins = np.unique(volumes) - .5\n",
    "plt.hist([int(paper[\"volume\"]) for paper in jmlr_papers], color=\"blue\", bins=bins, alpha=.3)\n",
    "bins = np.unique([int(paper[\"volume\"]) for paper in jmlr_papers] + [20]) - .5\n",
    "plt.hist([int(paper[\"volume\"]) for paper in bayesian_jmlr_papers], color=\"red\", bins=bins)\n",
    "plt.xticks([5*i for i in range(6)])\n",
    "plt.xlabel(\"Volumes\")\n",
    "plt.title(\"# Bayesian papers in JMLR\")\n",
    "plt.show()\n",
    "\n"
   ]
  },
  {
   "cell_type": "markdown",
   "metadata": {},
   "source": [
    "## Quick analysis of Bayesian papers at NIPS 1985--2017"
   ]
  },
  {
   "cell_type": "code",
   "execution_count": 29,
   "metadata": {},
   "outputs": [
    {
     "name": "stdout",
     "output_type": "stream",
     "text": [
      "There are 1063 neural network papers out of 7234\n",
      "There are 699 Bayesian papers out of 7234\n"
     ]
    }
   ],
   "source": [
    "bayesian_nips_papers = []\n",
    "neural_network_nips_papers = []\n",
    "for paper in nips_papers:\n",
    "    bayesian_keywords = [\"Bayesian\", \"variational Bayes\"]\n",
    "    if any(kwd in paper[\"abstract\"] for kwd in bayesian_keywords):\n",
    "        bayesian_nips_papers.append(paper)\n",
    "    neural_network_keywords = [\"neural network\", \"Neural network\", \"deep\", \"Deep\"]\n",
    "    if any(kwd in paper[\"abstract\"] for kwd in neural_network_keywords):\n",
    "        neural_network_nips_papers.append(paper)\n",
    "number_of_Bayesian_nips_papers = len(bayesian_nips_papers)   \n",
    "print(\"There are\", str(len(neural_network_nips_papers))+\" neural network papers out of\", number_of_papers)\n",
    "print(\"There are\", str(number_of_Bayesian_nips_papers)+\" Bayesian papers out of\", number_of_papers)"
   ]
  },
  {
   "cell_type": "code",
   "execution_count": 30,
   "metadata": {},
   "outputs": [
    {
     "name": "stdout",
     "output_type": "stream",
     "text": [
      "Out of which the number of papers about Bayesian networks is\n",
      "53\n"
     ]
    }
   ],
   "source": [
    "# Bayesian networks may not be about Bayesian statistics\n",
    "print(\"Out of which the number of papers about Bayesian networks is\")\n",
    "print(np.sum([\"Bayesian network\" in paper[\"abstract\"] for paper in bayesian_nips_papers]))"
   ]
  },
  {
   "cell_type": "code",
   "execution_count": 31,
   "metadata": {},
   "outputs": [
    {
     "data": {
      "image/png": "[encoded data removed]",
      "text/plain": [
       "<matplotlib.figure.Figure at 0x203cc47e10>"
      ]
     },
     "metadata": {},
     "output_type": "display_data"
    },
    {
     "data": {
      "image/png": "[encoded data removed]",
      "text/plain": [
       "<matplotlib.figure.Figure at 0x11108a630>"
      ]
     },
     "metadata": {},
     "output_type": "display_data"
    }
   ],
   "source": [
    "# plot proportion of Bayesian papers\n",
    "years = [int(paper[\"year\"]) for paper in nips_papers] + [2018]\n",
    "bins = np.unique(years) - .5\n",
    "plt.hist([int(paper[\"year\"]) for paper in nips_papers], color=\"blue\", bins=bins, alpha=.3)\n",
    "bins = np.unique([int(paper[\"year\"]) for paper in bayesian_nips_papers] + [2018]) - .5\n",
    "plt.hist([int(paper[\"year\"]) for paper in bayesian_nips_papers], color=\"red\", bins=bins)\n",
    "plt.xticks([1990+5*i for i in range(6)])\n",
    "plt.title(\"# Bayesian papers at NeurIPS conferences 1987-2017\")\n",
    "plt.show()\n",
    "\n",
    "# plot proportion of Bayesian papers\n",
    "years = [int(paper[\"year\"]) for paper in nips_papers] + [2018]\n",
    "bins = np.unique(years) - .5\n",
    "plt.hist([int(paper[\"year\"]) for paper in nips_papers], color=\"blue\", bins=bins, alpha=.3)\n",
    "bins = np.unique([int(paper[\"year\"]) for paper in neural_network_nips_papers] + [2018]) - .5\n",
    "plt.hist([int(paper[\"year\"]) for paper in neural_network_nips_papers], color=\"red\", bins=bins)\n",
    "plt.xticks([1990+5*i for i in range(6)])\n",
    "plt.title(\"# Deep papers at NeurIPS conferences 1987-2017\")\n",
    "plt.show()"
   ]
  },
  {
   "cell_type": "markdown",
   "metadata": {},
   "source": [
    "## Topic modelling"
   ]
  },
  {
   "cell_type": "markdown",
   "metadata": {},
   "source": [
    "Let us first look at all JMLR"
   ]
  },
  {
   "cell_type": "code",
   "execution_count": 20,
   "metadata": {},
   "outputs": [
    {
     "name": "stdout",
     "output_type": "stream",
     "text": [
      "done in 0.366s.\n"
     ]
    }
   ],
   "source": [
    "# Extract tf features (raw term counts)\n",
    "tf_vectorizer = CountVectorizer(max_df=0.95, min_df=2,\n",
    "                                max_features=1000,\n",
    "                                stop_words='english') # output is a sparse matrix\n",
    "tic = time.time()\n",
    "tf = tf_vectorizer.fit_transform([paper[\"abstract\"] for paper in jmlr_papers])\n",
    "print(\"Extraction done in %0.3fs.\" % (time.time() - tic))\n",
    "\n",
    "# Fit the LDA\n",
    "number_of_topics = 10\n",
    "lda = LatentDirichletAllocation(n_components=number_of_topics, max_iter=100,\n",
    "                                learning_method='online',\n",
    "                                learning_offset=50.,\n",
    "                                random_state=0)\n",
    "tic = time.time()\n",
    "lda.fit(tf)\n",
    "print(\"LDA fit done in %0.3fs.\" % (time.time() - tic))"
   ]
  },
  {
   "cell_type": "code",
   "execution_count": 23,
   "metadata": {},
   "outputs": [
    {
     "name": "stdout",
     "output_type": "stream",
     "text": [
      "Topic #0: matrix sparse rank norm low lasso matrices sparsity high problem\n",
      "Topic #1: sub sup algorithm learning policy problem function methods tree method\n",
      "Topic #2: learning data algorithms methods based problems paper training machine tasks\n",
      "Topic #3: em graph network networks graphs structure nodes algorithm search graphical\n",
      "Topic #4: algorithm gradient algorithms online al et stochastic regret boosting descent\n",
      "Topic #5: nbsp href papers pdf font bib 17 100 right target\n",
      "Topic #6: model models data bayesian inference variables markov gaussian process approach\n",
      "Topic #7: bounds learning error loss results class bound function algorithms problem\n",
      "Topic #8: log class learning epsilon mathcal complexity time queries classes small\n",
      "Topic #9: data kernel method based kernels svm vector space clustering problem\n",
      "\n"
     ]
    }
   ],
   "source": [
    "# Print top words in each topic\n",
    "def print_top_words(model, feature_names, number_of_top_words=10):\n",
    "    \"\"\"print top words by topic in a given model\n",
    "    \"\"\"\n",
    "    for topic_idx, topic in enumerate(model.components_):\n",
    "        message = \"Topic #%d: \" % topic_idx\n",
    "        message += \" \".join([feature_names[i]\n",
    "                             for i in topic.argsort()[:-number_of_top_words - 1:-1]])\n",
    "        print(message)\n",
    "    print()\n",
    "       \n",
    "tf_feature_names = tf_vectorizer.get_feature_names()\n",
    "print_top_words(lda, tf_feature_names)"
   ]
  },
  {
   "cell_type": "markdown",
   "metadata": {},
   "source": [
    "Now only Bayesian papers"
   ]
  },
  {
   "cell_type": "code",
   "execution_count": 24,
   "metadata": {},
   "outputs": [
    {
     "name": "stdout",
     "output_type": "stream",
     "text": [
      "Extraction done in 0.047s.\n",
      "LDA fit done in 3.637s.\n"
     ]
    }
   ],
   "source": [
    "# Extract tf features (raw term counts)\n",
    "tf_vectorizer = CountVectorizer(max_df=0.95, min_df=2,\n",
    "                                max_features=1000,\n",
    "                                stop_words='english') # output is a sparse matrix\n",
    "tic = time.time()\n",
    "tf = tf_vectorizer.fit_transform([paper[\"abstract\"] for paper in bayesian_jmlr_papers])\n",
    "print(\"Extraction done in %0.3fs.\" % (time.time() - tic))\n",
    "\n",
    "# Fit the LDA\n",
    "number_of_topics = 10\n",
    "lda = LatentDirichletAllocation(n_components=number_of_topics, max_iter=100,\n",
    "                                learning_method='online',\n",
    "                                learning_offset=50.,\n",
    "                                random_state=0)\n",
    "tic = time.time()\n",
    "lda.fit(tf)\n",
    "print(\"LDA fit done in %0.3fs.\" % (time.time() - tic))"
   ]
  },
  {
   "cell_type": "code",
   "execution_count": 25,
   "metadata": {},
   "outputs": [
    {
     "name": "stdout",
     "output_type": "stream",
     "text": [
      "Topic #0: activities state algorithm search structure algorithms network bayesian learning complexity\n",
      "Topic #1: consensus annotators labels quality smaller quite motivated short control bias\n",
      "Topic #2: workers labeling budget instances policy computationally quality problem allocation dp\n",
      "Topic #3: bayesian learning criterion information network gp structure methods paper techniques\n",
      "Topic #4: margin max topic models supervised multi prediction representations gibbs existing\n",
      "Topic #5: topic vb lda matrix bayes variational field singular allocation shrinkage\n",
      "Topic #6: learning bayesian networks models algorithms markov graphical model priors sup\n",
      "Topic #7: bayesian data model learning models based inference methods algorithm method\n",
      "Topic #8: clustering dirichlet prior grammar model process language natural pitman yor\n",
      "Topic #9: nbsp posterior href papers 17 font bib pdf data inference\n",
      "\n"
     ]
    }
   ],
   "source": [
    "tf_feature_names = tf_vectorizer.get_feature_names()\n",
    "print_top_words(lda, tf_feature_names)"
   ]
  },
  {
   "cell_type": "markdown",
   "metadata": {},
   "source": [
    "Now Bayesian papers in JMLR+NIPS"
   ]
  },
  {
   "cell_type": "code",
   "execution_count": 39,
   "metadata": {},
   "outputs": [
    {
     "name": "stdout",
     "output_type": "stream",
     "text": [
      "Extraction done in 0.152s.\n",
      "LDA fit done in 3.381s.\n"
     ]
    }
   ],
   "source": [
    "# Extract tf features (raw term counts)\n",
    "tf_vectorizer = CountVectorizer(max_df=0.95, min_df=2,\n",
    "                                max_features=1000,\n",
    "                                stop_words='english') # output is a sparse matrix\n",
    "tic = time.time()\n",
    "tf = tf_vectorizer.fit_transform([paper[\"abstract\"] for paper in bayesian_jmlr_papers+bayesian_nips_papers])\n",
    "print(\"Extraction done in %0.3fs.\" % (time.time() - tic))\n",
    "\n",
    "# Fit the LDA\n",
    "number_of_topics = 20\n",
    "lda = LatentDirichletAllocation(n_components=number_of_topics, max_iter=10,\n",
    "                                learning_method='online',\n",
    "                                learning_offset=50.,\n",
    "                                random_state=0)\n",
    "tic = time.time()\n",
    "lda.fit(tf)\n",
    "print(\"LDA fit done in %0.3fs.\" % (time.time() - tic))"
   ]
  },
  {
   "cell_type": "code",
   "execution_count": 40,
   "metadata": {},
   "outputs": [
    {
     "name": "stdout",
     "output_type": "stream",
     "text": [
      "Topic #0: scheme computation combines elements takes involving continuous describes yields message\n",
      "Topic #1: recently computational data property treatment sensory risk form sets known\n",
      "Topic #2: model hierarchical inference networks hdp methods data algorithms information structure\n",
      "Topic #3: markov monte carlo time mcmc chain inference sampling data em\n",
      "Topic #4: learning techniques bounds gp methods distribution standard provide including free\n",
      "Topic #5: 12 sparsity dependency average types bias improvement em accuracy text\n",
      "Topic #6: data view learning training detection type produce model active algorithm\n",
      "Topic #7: selection model ep convergence paper based bayes non features scheme\n",
      "Topic #8: energy free subsets statistical minimum bayes family theoretical marginal based\n",
      "Topic #9: model learning data method models based algorithm approach methods neural\n",
      "Topic #10: model hierarchical models level dropout topic learning hierarchy instance lda\n",
      "Topic #11: models data model process latent inference dirichlet nonparametric distributions mixture\n",
      "Topic #12: reward decision agent action policy agents vb reinforcement optimal function\n",
      "Topic #13: sup pca dimension single component values overfitting procedures known larger\n",
      "Topic #14: belief propagation loopy node nodes unwrapped correlation posterior networks xi\n",
      "Topic #15: ep laplace propagation expectation classification cross subset labels approximations nbsp\n",
      "Topic #16: matrix factorization matrices missing games rank game wise items method\n",
      "Topic #17: model learning variables parameters hidden models structure kernel machine used\n",
      "Topic #18: model human object models category visual task learning objects different\n",
      "Topic #19: nodes structure network graph algorithm networks tree algorithms time dag\n",
      "\n"
     ]
    }
   ],
   "source": [
    "tf_feature_names = tf_vectorizer.get_feature_names()\n",
    "print_top_words(lda, tf_feature_names, number_of_top_words=10)"
   ]
  },
  {
   "cell_type": "code",
   "execution_count": null,
   "metadata": {},
   "outputs": [],
   "source": []
  }
 ],
 "metadata": {
  "kernelspec": {
   "display_name": "Python 3",
   "language": "python",
   "name": "python3"
  },
  "language_info": {
   "codemirror_mode": {
    "name": "ipython",
    "version": 3
   },
   "file_extension": ".py",
   "mimetype": "text/x-python",
   "name": "python",
   "nbconvert_exporter": "python",
   "pygments_lexer": "ipython3",
   "version": "3.5.4"
  },
  "toc": {
   "base_numbering": 1,
   "nav_menu": {},
   "number_sections": true,
   "sideBar": true,
   "skip_h1_title": false,
   "title_cell": "Table of Contents",
   "title_sidebar": "Contents",
   "toc_cell": false,
   "toc_position": {},
   "toc_section_display": true,
   "toc_window_display": false
  }
 },
 "nbformat": 4,
 "nbformat_minor": 2
}
